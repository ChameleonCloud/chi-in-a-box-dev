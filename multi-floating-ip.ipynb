{
 "cells": [
  {
   "cell_type": "code",
   "execution_count": 1,
   "metadata": {},
   "outputs": [
    {
     "name": "stdout",
     "output_type": "stream",
     "text": [
      "No project could automatically be detected. Overriding in Notebook.\n",
      "Successfully authenticated to project Chameleon\n"
     ]
    }
   ],
   "source": [
    "# Authenticate to project\n",
    "if [[ \"${OS_PROJECT_NAME:+x}\" != \"x\" ]]; then\n",
    "  echo \"No project could automatically be detected. Overriding in Notebook.\"\n",
    "  # For example...\n",
    "  export OS_PROJECT_NAME='Chameleon'\n",
    "fi\n",
    "\n",
    "# Test that you can authenticate\n",
    "openstack token issue >/dev/null && echo \"Successfully authenticated to project $OS_PROJECT_NAME\""
   ]
  },
  {
   "cell_type": "code",
   "execution_count": 2,
   "metadata": {},
   "outputs": [],
   "source": [
    "# Server info\n",
    "LEASE_NAME=\"$USER-chibox\"\n",
    "SERVER_NAME=\"$LEASE_NAME\"\n",
    "KEYPAIR_NAME=\"$USER-jupyter-$(hostname)\"\n",
    "# FLAVOR=\"m1.large\"\n",
    "FLAVOR=\"baremetal\"\n",
    "NODE_TYPE=\"compute_haswell\"\n",
    "IMAGE_NAME=\"CC-CentOS8\"\n",
    "\n",
    "#lease for 1 day\n",
    "START_DATE=\"$(date +'%Y-%m-%d %H:%M')\"\n",
    "END_DATE=\"$(date +'%Y-%m-%d %H:%M' -d'+1 day')\"\n",
    "\n",
    "# Get the ID for the network named \"public\"\n",
    "EXT_NETWORK_ID=\"$(openstack network show public -f value -c id)\"\n",
    "\n",
    "# Use sharednet for public net\n",
    "PUB_NETWORK_NAME=\"sharednet1\"\n",
    "PUB_NETWORK_ID=\"$(openstack network show -f json $PUB_NETWORK_NAME | jq -r '.id')\"\n",
    "PUB_SUBNET_ID=\"$(openstack network show -f json $PUB_NETWORK_NAME | jq -r '.subnets[]')\"\n",
    "\n",
    "# Set up port on public network with two fixed-IPs and two floating IPs\n",
    "PUB_PORT_NAME=\"$LEASE_NAME-pub-if\"\n",
    "FIP_LEASE_NAME=\"$LEASE_NAME-pub-ip\"\n",
    "FIP_COUNT=2\n",
    "\n",
    "# vlan for private net\n",
    "PRIV_NETWORK_NAME=\"$LEASE_NAME-priv-net\""
   ]
  },
  {
   "cell_type": "code",
   "execution_count": 3,
   "metadata": {},
   "outputs": [
    {
     "name": "stdout",
     "output_type": "stream",
     "text": [
      "ACTIVE\n",
      "\u001b[0m"
     ]
    }
   ],
   "source": [
    "#Get lease for the server, floatingIPs, and private vlan\n",
    "blazar lease-show -f value -c status \"$LEASE_NAME\" || \\\n",
    "blazar lease-create \\\n",
    "    --physical-reservation min=1,max=1,resource_properties=\"[\\\"=\\\", \\\"\\$node_type\\\", \\\"$NODE_TYPE\\\"]\" \\\n",
    "    --reservation resource_type=\"virtual:floatingip\",network_id=\"$EXT_NETWORK_ID\",amount=\"$FIP_COUNT\" \\\n",
    "    --reservation resource_type=\"network\",network_name=\"${PRIV_NETWORK_NAME}\" \\\n",
    "    --end-date \"${END_DATE}\" \\\n",
    "    \"$LEASE_NAME\""
   ]
  },
  {
   "cell_type": "code",
   "execution_count": 4,
   "metadata": {},
   "outputs": [
    {
     "name": "stdout",
     "output_type": "stream",
     "text": [
      "Waiting up to 300 seconds for lease shermanm-chibox to start...\n",
      "Lease started successfully!\n"
     ]
    }
   ],
   "source": [
    "wait_lease \"$LEASE_NAME\""
   ]
  },
  {
   "cell_type": "code",
   "execution_count": 5,
   "metadata": {},
   "outputs": [
    {
     "name": "stdout",
     "output_type": "stream",
     "text": [
      "port id is: 377948b0-adb2-4307-b4e3-f71edbe5794c\n",
      "10.140.83.183 10.140.83.218\n"
     ]
    }
   ],
   "source": [
    "# Create the port if it doesn't exist\n",
    "if [[ $(openstack port show ${PUB_PORT_NAME} ) ]]\n",
    "then\n",
    "    PUB_PORT_JSON=\"$(openstack port show -f json \"${PUB_PORT_NAME}\" | jq -r '.')\"\n",
    "    PUB_PORT_ID=\"$( echo ${PUB_PORT_JSON} | jq -r '.id' )\"\n",
    "    echo \"port id is: $PUB_PORT_ID\"\n",
    "else\n",
    "    PUB_PORT_JSON=\"$(openstack port create -f json \\\n",
    "        --network ${PUB_NETWORK_NAME} \\\n",
    "        --fixed-ip subnet=${PUB_SUBNET_ID} \\\n",
    "        --fixed-ip subnet=${PUB_SUBNET_ID} \\\n",
    "        ${PUB_PORT_NAME})\"\n",
    "fi\n",
    "\n",
    "PUB_PORT_IPS=\"$( echo ${PUB_PORT_JSON} | jq -r '.fixed_ips[] | .ip_address')\"\n",
    "echo $PUB_PORT_IPS"
   ]
  },
  {
   "cell_type": "code",
   "execution_count": 6,
   "metadata": {},
   "outputs": [],
   "source": [
    "# TODO, something broken in the logic here\n",
    "# #Get floating IPs associated with the lease\n",
    "# FIP_LEASE_ID=\"$(blazar lease-show -f json -c reservations \"$LEASE_NAME\" \\\n",
    "#     | jq -r \".reservations\" \\\n",
    "#     | jq -r '. | select(.resource_type == \"virtual:floatingip\").id')\"\n",
    "    \n",
    "# readarray -t FLOATING_IP_LIST < <(openstack floating ip list -f value \\\n",
    "#     -c \"Floating IP Address\" \\\n",
    "#     --tags \"reservation:$FIP_LEASE_ID\")\n",
    "\n",
    "# #Attach floating IPs to the port\n",
    "# for i in ${!PUB_PORT_IPS[@]}; do\n",
    "#     openstack floating ip set  --port \"${PUB_PORT_NAME}\"  --fixed-ip-address ${PUB_PORT_IPS[$i]}  \"${FLOATING_IP_LIST[$i]}\"\n",
    "# done"
   ]
  },
  {
   "cell_type": "code",
   "execution_count": 7,
   "metadata": {},
   "outputs": [
    {
     "name": "stdout",
     "output_type": "stream",
     "text": [
      "+-------------+------------------------------------------------------------------+\n",
      "| Field       | Value                                                            |\n",
      "+-------------+------------------------------------------------------------------+\n",
      "| created_at  | 2021-02-16T17:33:57.000000                                       |\n",
      "| deleted     | False                                                            |\n",
      "| deleted_at  | None                                                             |\n",
      "| fingerprint | 98:71:e6:98:52:66:0b:ac:03:f1:76:5d:02:f3:6a:89                  |\n",
      "| id          | 6286                                                             |\n",
      "| name        | shermanm-jupyter-9d610d205298                                    |\n",
      "| updated_at  | None                                                             |\n",
      "| user_id     | d34b62393cdbd07a628635f223217d27640b8a074d04690bbcc6631151539fee |\n",
      "+-------------+------------------------------------------------------------------+\n",
      "\u001b[0m"
     ]
    }
   ],
   "source": [
    "openstack keypair show \"$KEYPAIR_NAME\" || \\\n",
    "openstack keypair create --public-key ~/work/.ssh/id_rsa.pub \"$KEYPAIR_NAME\""
   ]
  },
  {
   "cell_type": "code",
   "execution_count": 9,
   "metadata": {},
   "outputs": [
    {
     "name": "stdout",
     "output_type": "stream",
     "text": [
      "+-------------------------------------+------------------------------------------------------------------+\n",
      "| Field                               | Value                                                            |\n",
      "+-------------------------------------+------------------------------------------------------------------+\n",
      "| OS-DCF:diskConfig                   | MANUAL                                                           |\n",
      "| OS-EXT-AZ:availability_zone         | nova                                                             |\n",
      "| OS-EXT-SRV-ATTR:host                | admin01-ironic                                                   |\n",
      "| OS-EXT-SRV-ATTR:hypervisor_hostname | 224e4adf-e622-4d1d-8981-01082867b561                             |\n",
      "| OS-EXT-SRV-ATTR:instance_name       | instance-0000c746                                                |\n",
      "| OS-EXT-STS:power_state              | Running                                                          |\n",
      "| OS-EXT-STS:task_state               | None                                                             |\n",
      "| OS-EXT-STS:vm_state                 | active                                                           |\n",
      "| OS-SRV-USG:launched_at              | 2021-02-25T00:52:04.000000                                       |\n",
      "| OS-SRV-USG:terminated_at            | None                                                             |\n",
      "| accessIPv4                          |                                                                  |\n",
      "| accessIPv6                          |                                                                  |\n",
      "| addresses                           | sharednet1=10.140.83.183, 10.140.83.218                          |\n",
      "| config_drive                        |                                                                  |\n",
      "| created                             | 2021-02-25T00:41:58Z                                             |\n",
      "| flavor                              | baremetal (baremetal)                                            |\n",
      "| hostId                              | 29e7d53d36b259a16b6eb25aa825b5a5eb4923a9f459b6cc7b427d55         |\n",
      "| id                                  | ed26d2a4-232f-42de-90ac-2ca3044e5c39                             |\n",
      "| image                               | CC-CentOS8 (2d6ccafa-c8fc-4494-a3f7-b3c9176b7237)                |\n",
      "| key_name                            | shermanm-jupyter-9d610d205298                                    |\n",
      "| name                                | shermanm-chibox                                                  |\n",
      "| progress                            | 0                                                                |\n",
      "| project_id                          | 4140e5f9f65545dbb9f0bdc90ef68d23                                 |\n",
      "| properties                          |                                                                  |\n",
      "| security_groups                     | name='default'                                                   |\n",
      "| status                              | ACTIVE                                                           |\n",
      "| updated                             | 2021-02-25T00:52:04Z                                             |\n",
      "| user_id                             | d34b62393cdbd07a628635f223217d27640b8a074d04690bbcc6631151539fee |\n",
      "| volumes_attached                    |                                                                  |\n",
      "+-------------------------------------+------------------------------------------------------------------+\n",
      "\u001b[0m"
     ]
    }
   ],
   "source": [
    "RESERVATION_ID=\"$(blazar lease-show -f json -c reservations \"$LEASE_NAME\" \\\n",
    "     | jq -r \".reservations\" \\\n",
    "     | jq -r '. | select(.resource_type == \"physical:host\").id')\"\n",
    "\n",
    "openstack server show $SERVER_NAME || \\\n",
    "openstack server create \\\n",
    "    --flavor \"$FLAVOR\" \\\n",
    "    --key-name \"$KEYPAIR_NAME\" \\\n",
    "    --image \"$IMAGE_NAME\" \\\n",
    "    --port \"$PUB_PORT_NAME\" \\\n",
    "    --hint reservation=\"$RESERVATION_ID\" \\\n",
    "    $SERVER_NAME"
   ]
  },
  {
   "cell_type": "code",
   "execution_count": 10,
   "metadata": {},
   "outputs": [
    {
     "name": "stdout",
     "output_type": "stream",
     "text": [
      "Waiting up to 600 seconds for instance shermanm-chibox to start\n",
      "Instance created successfully!\n"
     ]
    }
   ],
   "source": [
    "# openstack server show \"$SERVER_NAME\"\n",
    "wait_instance \"$SERVER_NAME\""
   ]
  },
  {
   "cell_type": "code",
   "execution_count": 12,
   "metadata": {},
   "outputs": [
    {
     "name": "stdout",
     "output_type": "stream",
     "text": [
      "Waiting up to 300 seconds for SSH on 192.5.87.223...\n",
      "SSH is running!\n"
     ]
    }
   ],
   "source": [
    "#the first IP is unassigned. The second is used for ssh.\n",
    "FLOATING_IP=\"192.5.87.223\"\n",
    "wait_ssh $FLOATING_IP"
   ]
  },
  {
   "cell_type": "code",
   "execution_count": 13,
   "metadata": {},
   "outputs": [
    {
     "name": "stdout",
     "output_type": "stream",
     "text": [
      "User cc connected on shermanm-chibox.novalocal!\n"
     ]
    }
   ],
   "source": [
    "ssh cc@\"$FLOATING_IP\" echo 'User $(whoami) connected on $(hostname)!'"
   ]
  },
  {
   "cell_type": "code",
   "execution_count": null,
   "metadata": {},
   "outputs": [],
   "source": [
    "#TODO: Print network subnets and IPs to use for chi-in-a-box"
   ]
  },
  {
   "cell_type": "code",
   "execution_count": null,
   "metadata": {},
   "outputs": [],
   "source": [
    "#TODO: add subnet and port to private network"
   ]
  },
  {
   "cell_type": "markdown",
   "metadata": {},
   "source": [
    "## Step 5: Clean up (optional)\n",
    "\n",
    "If you don't need your server anymore, it is a nice thing to end your lease yourself, rather than waiting for it to expire. Ending a lease immediately returns resources to be reserved by others. You don't need to stop your servers; that will be done automatically when the lease is deleted."
   ]
  },
  {
   "cell_type": "code",
   "execution_count": null,
   "metadata": {},
   "outputs": [],
   "source": [
    "# Commented out for safety.\n",
    "# blazar lease-delete \"$LEASE_NAME\""
   ]
  }
 ],
 "metadata": {
  "kernelspec": {
   "display_name": "Bash",
   "language": "bash",
   "name": "bash"
  },
  "language_info": {
   "codemirror_mode": "shell",
   "file_extension": ".sh",
   "mimetype": "text/x-sh",
   "name": "bash"
  }
 },
 "nbformat": 4,
 "nbformat_minor": 4
}
